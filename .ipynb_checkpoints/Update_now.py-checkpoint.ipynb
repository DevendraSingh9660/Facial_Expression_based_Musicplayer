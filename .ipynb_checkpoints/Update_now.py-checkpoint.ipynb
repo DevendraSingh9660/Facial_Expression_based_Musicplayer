{
 "cells": [
  {
   "cell_type": "code",
   "execution_count": 5,
   "metadata": {},
   "outputs": [],
   "source": [
    "import numpy as np\n",
    "import glob\n",
    "import random\n",
    "import cv2\n",
    "\n",
    "fishface=cv2.face.FisherFaceRecognizer_create()\n",
    "data={}\n"
   ]
  },
  {
   "cell_type": "code",
   "execution_count": 6,
   "metadata": {},
   "outputs": [],
   "source": [
    "def update(emotions):\n",
    "    run_recognizer(emotions)\n",
    "    print(\"Saving model...\")\n",
    "    fishface.save(\"model2.xml\")\n",
    "    print(\"Model saved!!\")"
   ]
  },
  {
   "cell_type": "code",
   "execution_count": 7,
   "metadata": {},
   "outputs": [],
   "source": [
    "def make_sets(emotions):\n",
    "    training_data=[]\n",
    "    training_label=[]\n",
    "\n",
    "    for emotion in emotions:\n",
    "        training=sorted(glob.glob(\"dataset/%s/*\" %emotion))\n",
    "        for item in training:\n",
    "            gray=cv2.imread(item,0)\n",
    "            #gray=cv2.cvtColor(image, cv2.COLOR_BGR2GRAY)\n",
    "            training_data.append(gray)\n",
    "            training_label.append(emotions.index(emotion))\n",
    "    return training_data, training_label"
   ]
  },
  {
   "cell_type": "code",
   "execution_count": 4,
   "metadata": {},
   "outputs": [],
   "source": [
    "def run_recognizer(emotions):\n",
    "    training_data, training_label=make_sets(emotions)\n",
    "    print(\"Training model...\")\n",
    "    print(\"The size of the dataset is \"+str(len(training_data))+\" images\")\n",
    "    fishface.train(training_data, np.asarray(training_label))"
   ]
  },
  {
   "cell_type": "code",
   "execution_count": null,
   "metadata": {},
   "outputs": [],
   "source": []
  }
 ],
 "metadata": {
  "interpreter": {
   "hash": "ad2bdc8ecc057115af97d19610ffacc2b4e99fae6737bb82f5d7fb13d2f2c186"
  },
  "kernelspec": {
   "display_name": "Python 3.8.5 ('base')",
   "language": "python",
   "name": "python3"
  },
  "language_info": {
   "codemirror_mode": {
    "name": "ipython",
    "version": 3
   },
   "file_extension": ".py",
   "mimetype": "text/x-python",
   "name": "python",
   "nbconvert_exporter": "python",
   "pygments_lexer": "ipython3",
   "version": "3.8.5"
  }
 },
 "nbformat": 4,
 "nbformat_minor": 4
}
